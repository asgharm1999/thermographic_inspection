{
 "cells": [
  {
   "cell_type": "markdown",
   "id": "f6e5c1f6",
   "metadata": {},
   "source": [
    "# Active thermographic inspection for aviation asstes"
   ]
  },
  {
   "cell_type": "code",
   "execution_count": 1,
   "id": "b9be44a4",
   "metadata": {},
   "outputs": [],
   "source": [
    "# Dependencies\n",
    "# pip install opencv-python bagpy cvbridge3 ipdb"
   ]
  },
  {
   "cell_type": "markdown",
   "id": "d3ef4352",
   "metadata": {},
   "source": [
    "## Read .bag thermal files"
   ]
  },
  {
   "cell_type": "code",
   "execution_count": 2,
   "id": "f2f4c6ed",
   "metadata": {},
   "outputs": [
    {
     "name": "stdout",
     "output_type": "stream",
     "text": [
      "['/Users/asghar/Desktop/AirLab/thermographic_inspection/2023-08-31/after/thermal_left_2023-08-31-14-53-51.bag', '/Users/asghar/Desktop/AirLab/thermographic_inspection/2023-08-31/after/thermal_right_2023-08-31-14-53-51.bag']\n",
      " - filename          :  /Users/asghar/Desktop/AirLab/thermographic_inspection/2023-08-31/after/thermal_left_2023-08-31-14-53-51.bag\n",
      " - get_message_count :  352\n",
      " - start_time        :  1693508034.7076309\n",
      " - end_time          :  1693508060.4848423\n",
      " - size              :  230778409\n",
      " - mode              :  r\n",
      "\n",
      "\n",
      "\n",
      " - get_message_count :  352\n"
     ]
    },
    {
     "name": "stderr",
     "output_type": "stream",
     "text": [
      "/var/folders/df/rc0lymgs6nvd3r8bhd0wfb880000gn/T/ipykernel_24984/2356858404.py:37: TqdmDeprecationWarning: This function will be removed in tqdm==5.0.0\n",
      "Please use `tqdm.notebook.tqdm` instead of `tqdm.tqdm_notebook`\n",
      "  with tqdm.tqdm_notebook(total = bag.get_message_count()) as pbar:\n"
     ]
    },
    {
     "data": {
      "application/vnd.jupyter.widget-view+json": {
       "model_id": "469daaec7a0c49a9b37f0e878f799772",
       "version_major": 2,
       "version_minor": 0
      },
      "text/plain": [
       "  0%|          | 0/352 [00:00<?, ?it/s]"
      ]
     },
     "metadata": {},
     "output_type": "display_data"
    },
    {
     "name": "stdout",
     "output_type": "stream",
     "text": [
      " - topics :  ['/thermal_left/image']\n",
      "/thermal_left/image\n",
      " - filename          :  /Users/asghar/Desktop/AirLab/thermographic_inspection/2023-08-31/after/thermal_right_2023-08-31-14-53-51.bag\n",
      " - get_message_count :  346\n",
      " - start_time        :  1693508034.864173\n",
      " - end_time          :  1693508060.4376736\n",
      " - size              :  226845181\n",
      " - mode              :  r\n",
      "\n",
      "\n",
      "\n",
      " - get_message_count :  346\n"
     ]
    },
    {
     "data": {
      "application/vnd.jupyter.widget-view+json": {
       "model_id": "196a7880045e4f7dada2bc037794f517",
       "version_major": 2,
       "version_minor": 0
      },
      "text/plain": [
       "  0%|          | 0/346 [00:00<?, ?it/s]"
      ]
     },
     "metadata": {},
     "output_type": "display_data"
    },
    {
     "name": "stdout",
     "output_type": "stream",
     "text": [
      " - topics :  ['/thermal_right/image']\n",
      "/thermal_right/image\n"
     ]
    }
   ],
   "source": [
    "import rosbag\n",
    "import os\n",
    "import tqdm\n",
    "import numpy as np\n",
    "from sensor_msgs import point_cloud2\n",
    "\n",
    "# Directory containing the bag files\n",
    "main_directory = \"/Users/asghar/Desktop/AirLab/thermographic_inspection/2023-08-31/\"\n",
    "\n",
    "# Create an output directory for saving overlayed images\n",
    "output_directory = \"/Users/asghar/Desktop/AirLab/thermographic_inspection/2023-08-31/output/\"\n",
    "os.makedirs(output_directory, exist_ok=True)\n",
    "\n",
    "res = []\n",
    "\n",
    "for root, dirs, files in os.walk(main_directory):\n",
    "    for file in files:\n",
    "        if not file.startswith('imu_gps'): # exclude gps bag files\n",
    "            if file.endswith(\".bag\"):\n",
    "                res.append(os.path.join(root, file))\n",
    "print(res)\n",
    "\n",
    "for file in res:\n",
    "\n",
    "    bag             = rosbag.Bag(file)\n",
    "    print (' - filename          : ', bag.filename)\n",
    "    print (' - get_message_count : ', bag.get_message_count())\n",
    "    print (' - start_time        : ', bag.get_start_time())\n",
    "    print (' - end_time          : ', bag.get_end_time())\n",
    "    print (' - size              : ', bag.size)\n",
    "    print (' - mode              : ', bag.mode)\n",
    "    print ('\\n\\n')\n",
    "\n",
    "    ## Step2 - Method1 - Get all topics\n",
    "    topics          = []\n",
    "    print (' - get_message_count : ', bag.get_message_count())\n",
    "    with tqdm.tqdm_notebook(total = bag.get_message_count()) as pbar:\n",
    "        for idx, (topic, msg, t) in enumerate(bag.read_messages()):\n",
    "            pbar.update(1)\n",
    "            topics.append(topic)\n",
    "    topics = np.array(topics)\n",
    "    print (' - topics : ', np.unique(topics))\n",
    "\n",
    "    ## Step2 - Method2 - Get all topics\n",
    "    topics = [topic for topic in bag.get_type_and_topic_info().topics]\n",
    "    for topic in sorted(topics):\n",
    "        print (topic)\n",
    "\n",
    "    ## Step3 - Print messages of a topic\n",
    "    # for idx, (topic, msg, t) in enumerate(bag.read_messages()):\n",
    "    for idx, (topic, msg, t) in enumerate(bag.read_messages(topics=['/velodyne_packets'])):\n",
    "        print (topic, type(msg), t.to_time())"
   ]
  },
  {
   "cell_type": "code",
   "execution_count": 32,
   "id": "beb06631",
   "metadata": {},
   "outputs": [],
   "source": [
    "import os\n",
    "import cv2\n",
    "import numpy as np\n",
    "import rosbag\n",
    "from sensor_msgs.msg import Image\n",
    "from cv_bridge import CvBridge\n",
    "\n",
    "# Initialize a CvBridge to convert ROS Image messages to OpenCV images\n",
    "bridge = CvBridge()\n",
    "\n",
    "# Directory containing the bag files\n",
    "main_directory = \"/Users/asghar/Desktop/AirLab/thermographic_inspection/2023-08-31/\"\n",
    "\n",
    "# Create an output directory for saving overlayed images\n",
    "output_directory = \"/Users/asghar/Desktop/AirLab/thermographic_inspection/2023-08-31/output/\"\n",
    "os.makedirs(output_directory, exist_ok=True)\n",
    "\n",
    "# Function to process a single bag file\n",
    "def process_bag_file(bag_file_path, main_directory, output_subdirectory):\n",
    "    # Open the bag file\n",
    "    bag = rosbag.Bag(bag_file_path)\n",
    "    \n",
    "    # Iterate through messages in the bag file\n",
    "    for topic, msg, t in bag.read_messages(topics=['/thermal_right/image, /thermal_left/image']):\n",
    "        process_message(msg, output_directory, output_subdirectory)\n",
    "\n",
    "    # Close the bag file\n",
    "    bag.close()\n",
    "\n",
    "# Define a function to process each message in the bag file\n",
    "def process_message(msg, main_directory, output_subdirectory):\n",
    "    try:\n",
    "        # Convert the ROS Image message to an OpenCV image\n",
    "        cv_image = bridge.imgmsg_to_cv2(msg, desired_encoding=\"passthrough\")\n",
    "\n",
    "        # Apply any necessary preprocessing to enhance thermal features\n",
    "        # For example, you can apply thresholding or other image processing techniques\n",
    "\n",
    "        # Create a mask to isolate the thermal region of interest\n",
    "        # Here, we assume the thermal region is in a specific temperature range\n",
    "        lower_temp_threshold = 30  # Adjust this threshold as needed\n",
    "        upper_temp_threshold = 100  # Adjust this threshold as needed\n",
    "        thermal_mask = cv2.inRange(cv_image, lower_temp_threshold, upper_temp_threshold)\n",
    "\n",
    "        # Apply the mask to the original image\n",
    "        masked_image = cv2.bitwise_and(cv_image, cv_image, mask=thermal_mask)\n",
    "\n",
    "        # Overlay the mask on the original image (for visualization)\n",
    "        overlay_image = cv2.addWeighted(cv_image, 0.7, masked_image, 0.3, 0)\n",
    "\n",
    "        # Save the overlayed image to the output subdirectory\n",
    "        ipdb.set_trace()\n",
    "        output_path = os.path.join(output_directory, output_subdirectory)\n",
    "        os.makedirs(output_path, exist_ok=True)\n",
    "        filename = os.path.splitext(os.path.basename(bag_file_path))[0] + \"_overlayed.png\"\n",
    "        output_file_path = os.path.join(output_path, filename)\n",
    "        cv2.imwrite(output_file_path, overlay_image)\n",
    "\n",
    "    except Exception as e:\n",
    "        print(e)"
   ]
  },
  {
   "cell_type": "code",
   "execution_count": 35,
   "id": "da30ff9f",
   "metadata": {},
   "outputs": [
    {
     "name": "stdout",
     "output_type": "stream",
     "text": [
      "Processing path:        /Users/asghar/Desktop/AirLab/thermographic_inspection/2023-08-31/after/thermal_left_2023-08-31-14-53-51.bag\n",
      "version:     2.0\n",
      "duration:    25.8s\n",
      "start:       Aug 31 2023 14:53:54.71 (1693508034.71)\n",
      "end:         Aug 31 2023 14:54:20.48 (1693508060.48)\n",
      "size:        220.1 MB\n",
      "messages:    352\n",
      "compression: none [176/176 chunks]\n",
      "types:       sensor_msgs/Image [060021388200f6f0f447d0fcd9c64743]\n",
      "topics:      /thermal_left/image   352 msgs @ 14.3 Hz : sensor_msgs/Image...\n",
      "Processing path:        /Users/asghar/Desktop/AirLab/thermographic_inspection/2023-08-31/after/thermal_right_2023-08-31-14-53-51.bag\n",
      "version:     2.0\n",
      "duration:    25.6s\n",
      "start:       Aug 31 2023 14:53:54.86 (1693508034.86)\n",
      "end:         Aug 31 2023 14:54:20.44 (1693508060.44)\n",
      "size:        216.3 MB\n",
      "messages:    346\n",
      "compression: none [173/173 chunks]\n",
      "types:       sensor_msgs/Image [060021388200f6f0f447d0fcd9c64743]\n",
      "topics:      /thermal_right/image   346 msgs @ 14.3 Hz : sensor_msgs/Image...\n"
     ]
    }
   ],
   "source": [
    "# Walk through the main directory and its subdirectories\n",
    "import ipdb\n",
    "\n",
    "for file in res:\n",
    "    bag = rosbag.Bag(file)\n",
    "    \n",
    "    print(f\"Processing {bag}...\")\n",
    "    process_bag_file(file, main_directory, output_directory)\n",
    "\n",
    "\n",
    "# for root, dirs, files in os.walk(main_directory):\n",
    "#     for file in files:\n",
    "#         if not file.startswith('imu_gps'): # exclude GPS bag files\n",
    "#             if file.endswith(\".bag\"):\n",
    "                \n",
    "# #                 ipdb.set_trace()\n",
    "#                 # Get the relative subdirectory structure\n",
    "#                 rel_subdirectory = os.path.relpath(root, main_directory)\n",
    "#                 output_subdirectory = os.path.join(rel_subdirectory, file)\n",
    "\n",
    "#                 print(f\"Processing {bag_file_path}...\")\n",
    "#                 process_bag_file(bag_file_path, output_subdirectory)\n"
   ]
  },
  {
   "cell_type": "code",
   "execution_count": 19,
   "id": "11f96c51",
   "metadata": {},
   "outputs": [
    {
     "ename": "error",
     "evalue": "OpenCV(4.8.0) /Users/runner/work/opencv-python/opencv-python/opencv/modules/imgcodecs/src/loadsave.cpp:787: error: (-215:Assertion failed) !_img.empty() in function 'imwrite'\n",
     "output_type": "error",
     "traceback": [
      "\u001b[0;31m---------------------------------------------------------------------------\u001b[0m",
      "\u001b[0;31merror\u001b[0m                                     Traceback (most recent call last)",
      "Cell \u001b[0;32mIn[19], line 51\u001b[0m\n\u001b[1;32m     48\u001b[0m output_directory \u001b[38;5;241m=\u001b[39m \u001b[38;5;124m\"\u001b[39m\u001b[38;5;124m/Users/asghar/Desktop/AirLab/thermographic_inspection/2023-08-31/output/\u001b[39m\u001b[38;5;124m\"\u001b[39m \u001b[38;5;66;03m# Replace with your output directory path\u001b[39;00m\n\u001b[1;32m     50\u001b[0m \u001b[38;5;66;03m# Call the process_images function\u001b[39;00m\n\u001b[0;32m---> 51\u001b[0m \u001b[43mprocess_images\u001b[49m\u001b[43m(\u001b[49m\u001b[43minput_directory\u001b[49m\u001b[43m,\u001b[49m\u001b[43m \u001b[49m\u001b[43moutput_directory\u001b[49m\u001b[43m)\u001b[49m\n",
      "Cell \u001b[0;32mIn[19], line 41\u001b[0m, in \u001b[0;36mprocess_images\u001b[0;34m(input_dir, output_dir)\u001b[0m\n\u001b[1;32m     38\u001b[0m masked_image_output_path \u001b[38;5;241m=\u001b[39m os\u001b[38;5;241m.\u001b[39mpath\u001b[38;5;241m.\u001b[39mjoin(masked_images_output, filename)\n\u001b[1;32m     39\u001b[0m mask_output_path \u001b[38;5;241m=\u001b[39m os\u001b[38;5;241m.\u001b[39mpath\u001b[38;5;241m.\u001b[39mjoin(masks_output, filename\u001b[38;5;241m.\u001b[39mreplace(\u001b[38;5;124m'\u001b[39m\u001b[38;5;124m.jpg\u001b[39m\u001b[38;5;124m'\u001b[39m, \u001b[38;5;124m'\u001b[39m\u001b[38;5;124m_mask.jpg\u001b[39m\u001b[38;5;124m'\u001b[39m))\n\u001b[0;32m---> 41\u001b[0m \u001b[43mcv2\u001b[49m\u001b[38;5;241;43m.\u001b[39;49m\u001b[43mimwrite\u001b[49m\u001b[43m(\u001b[49m\u001b[43mmasked_image_output_path\u001b[49m\u001b[43m,\u001b[49m\u001b[43m \u001b[49m\u001b[43mmasked_image\u001b[49m\u001b[43m)\u001b[49m\n\u001b[1;32m     42\u001b[0m cv2\u001b[38;5;241m.\u001b[39mimwrite(mask_output_path, mask)\n\u001b[1;32m     44\u001b[0m \u001b[38;5;28mprint\u001b[39m(\u001b[38;5;124mf\u001b[39m\u001b[38;5;124m\"\u001b[39m\u001b[38;5;124mProcessed: \u001b[39m\u001b[38;5;132;01m{\u001b[39;00mmasked_image_output_path\u001b[38;5;132;01m}\u001b[39;00m\u001b[38;5;124m and \u001b[39m\u001b[38;5;132;01m{\u001b[39;00mmask_output_path\u001b[38;5;132;01m}\u001b[39;00m\u001b[38;5;124m\"\u001b[39m)\n",
      "\u001b[0;31merror\u001b[0m: OpenCV(4.8.0) /Users/runner/work/opencv-python/opencv-python/opencv/modules/imgcodecs/src/loadsave.cpp:787: error: (-215:Assertion failed) !_img.empty() in function 'imwrite'\n"
     ]
    }
   ],
   "source": [
    "import os\n",
    "import cv2\n",
    "import numpy as np\n",
    "\n",
    "# Function to process and save masked images and masks separately\n",
    "def process_images(input_dir, output_dir):\n",
    "    \n",
    "    # Iterate through each folder in the input directory\n",
    "    for folder_name in os.listdir(input_dir):\n",
    "        folder_path = os.path.join(input_dir, folder_name)\n",
    "        if not os.path.isdir(folder_path):\n",
    "            continue\n",
    "\n",
    "        # Create the corresponding output folders\n",
    "        masked_images_output = os.path.join(output_dir, folder_name, \"masked_images\")\n",
    "        masks_output = os.path.join(output_dir, folder_name, \"masks\")\n",
    "        os.makedirs(masked_images_output, exist_ok=True)\n",
    "        os.makedirs(masks_output, exist_ok=True)\n",
    "\n",
    "        # Iterate through images and masks in the folder\n",
    "        \n",
    "        \n",
    "        for filename in os.listdir(folder_path):\n",
    "            if filename.endswith('.bag'):\n",
    "                image_path = os.path.join(folder_path, filename)\n",
    "                mask_path = os.path.join(folder_path, filename.replace('.jpg', '_mask.jpg'))\n",
    "                \n",
    "                # Check if the mask file exists\n",
    "                if os.path.exists(mask_path):\n",
    "                    # Load the thermal image and mask\n",
    "                    image = cv2.imread(image_path)\n",
    "                    mask = cv2.imread(mask_path, cv2.IMREAD_GRAYSCALE)\n",
    "\n",
    "                    # Apply the mask to the image\n",
    "                    masked_image = cv2.bitwise_and(image, image, mask=mask)\n",
    "\n",
    "                    # Save the masked image and mask separately\n",
    "                    masked_image_output_path = os.path.join(masked_images_output, filename)\n",
    "                    mask_output_path = os.path.join(masks_output, filename.replace('.jpg', '_mask.jpg'))\n",
    "\n",
    "                    cv2.imwrite(masked_image_output_path, masked_image)\n",
    "                    cv2.imwrite(mask_output_path, mask)\n",
    "\n",
    "                    print(f\"Processed: {masked_image_output_path} and {mask_output_path}\")\n",
    "\n",
    "# Define the input and output directories\n",
    "input_directory = \"/Users/asghar/Desktop/AirLab/thermographic_inspection/2023-08-31/\"  # Replace with your input directory path\n",
    "output_directory = \"/Users/asghar/Desktop/AirLab/thermographic_inspection/2023-08-31/output/\" # Replace with your output directory path\n",
    "\n",
    "# Call the process_images function\n",
    "process_images(input_directory, output_directory)\n"
   ]
  },
  {
   "cell_type": "code",
   "execution_count": 20,
   "id": "6a245990",
   "metadata": {},
   "outputs": [],
   "source": [
    "def extract_and_save_masks(bag_file, output_dir):\n",
    "    bag = rosbag.Bag(bag_file)\n",
    "    bridge = CvBridge()\n",
    "\n",
    "    # Create an output directory for each Bag file\n",
    "    bag_name = os.path.splitext(os.path.basename(bag_file))[0]\n",
    "    bag_output_dir = os.path.join(output_dir, bag_name, 'masks')\n",
    "    os.makedirs(bag_output_dir, exist_ok=True)\n",
    "\n",
    "    for topic, msg, _ in bag.read_messages():\n",
    "        if topic == '/thermal_camera/mask':\n",
    "            # Convert the ROS Image message to a NumPy array\n",
    "            mask = bridge.imgmsg_to_cv2(msg, desired_encoding=\"passthrough\")\n",
    "\n",
    "            # Save the mask image\n",
    "            mask_filename = os.path.join(bag_output_dir, f'{msg.header.stamp}_mask.png')\n",
    "            cv2.imwrite(mask_filename, mask)\n",
    "            print(f'Saved mask: {mask_filename}')\n",
    "\n",
    "    bag.close()"
   ]
  },
  {
   "cell_type": "code",
   "execution_count": 22,
   "id": "aab84292",
   "metadata": {},
   "outputs": [],
   "source": [
    "main_directory = \"/Users/asghar/Desktop/AirLab/thermographic_inspection/2023-08-31/\"\n",
    "output_directory = \"/Users/asghar/Desktop/AirLab/thermographic_inspection/2023-08-31/output/\"\n",
    "\n",
    "# Process each Bag file in the specified directory\n",
    "for bag_filename in os.listdir(main_directory):\n",
    "    if bag_filename.endswith('.bag'):\n",
    "        bag_path = os.path.join(bag_directory, bag_filename)\n",
    "        extract_and_save_masks(bag_path, output_directory)"
   ]
  },
  {
   "cell_type": "code",
   "execution_count": null,
   "id": "65108451",
   "metadata": {},
   "outputs": [],
   "source": []
  },
  {
   "cell_type": "code",
   "execution_count": null,
   "id": "8c0568cb",
   "metadata": {},
   "outputs": [],
   "source": []
  },
  {
   "cell_type": "code",
   "execution_count": null,
   "id": "e9c924df",
   "metadata": {},
   "outputs": [],
   "source": []
  }
 ],
 "metadata": {
  "kernelspec": {
   "display_name": "Python 3 (ipykernel)",
   "language": "python",
   "name": "python3"
  },
  "language_info": {
   "codemirror_mode": {
    "name": "ipython",
    "version": 3
   },
   "file_extension": ".py",
   "mimetype": "text/x-python",
   "name": "python",
   "nbconvert_exporter": "python",
   "pygments_lexer": "ipython3",
   "version": "3.10.9"
  }
 },
 "nbformat": 4,
 "nbformat_minor": 5
}
